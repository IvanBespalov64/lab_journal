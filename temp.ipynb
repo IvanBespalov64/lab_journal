{
 "cells": [
  {
   "cell_type": "markdown",
   "id": "11117fb7",
   "metadata": {},
   "source": [
    "### Intro\n",
    "Come text\n",
    "* point 1\n",
    "* point 2\n",
    "* point 3\n",
    "- [ ] check it\n",
    "- [x] checked\n",
    "\n",
    "$f(x) = sin(x^2)$"
   ]
  },
  {
   "cell_type": "code",
   "execution_count": null,
   "id": "e996633c",
   "metadata": {},
   "outputs": [],
   "source": []
  }
 ],
 "metadata": {
  "kernelspec": {
   "display_name": "Python 3 (ipykernel)",
   "language": "python",
   "name": "python3"
  },
  "language_info": {
   "codemirror_mode": {
    "name": "ipython",
    "version": 3
   },
   "file_extension": ".py",
   "mimetype": "text/x-python",
   "name": "python",
   "nbconvert_exporter": "python",
   "pygments_lexer": "ipython3",
   "version": "3.9.5"
  }
 },
 "nbformat": 4,
 "nbformat_minor": 5
}
